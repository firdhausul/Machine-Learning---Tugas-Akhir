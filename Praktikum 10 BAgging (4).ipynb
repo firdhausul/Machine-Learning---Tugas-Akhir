{
 "cells": [
  {
   "cell_type": "code",
   "execution_count": 1,
   "metadata": {},
   "outputs": [],
   "source": [
    "# Bagged Decision Trees for Classification\n",
    "import pandas as pd\n",
    "from sklearn.ensemble import BaggingClassifier\n",
    "from sklearn.tree import DecisionTreeClassifier\n",
    "from sklearn.neighbors import KNeighborsClassifier\n",
    "from sklearn.metrics import confusion_matrix\n",
    "from sklearn.metrics import accuracy_score\n",
    "from sklearn.metrics import precision_score\n",
    "from sklearn import metrics\n",
    "from sklearn.naive_bayes import GaussianNB\n",
    "from sklearn.model_selection import KFold, cross_validate"
   ]
  },
  {
   "cell_type": "markdown",
   "metadata": {},
   "source": [
    "# PILIH DATASET"
   ]
  },
  {
   "cell_type": "code",
   "execution_count": 2,
   "metadata": {
    "scrolled": false
   },
   "outputs": [
    {
     "data": {
      "text/html": [
       "<div>\n",
       "<style scoped>\n",
       "    .dataframe tbody tr th:only-of-type {\n",
       "        vertical-align: middle;\n",
       "    }\n",
       "\n",
       "    .dataframe tbody tr th {\n",
       "        vertical-align: top;\n",
       "    }\n",
       "\n",
       "    .dataframe thead th {\n",
       "        text-align: right;\n",
       "    }\n",
       "</style>\n",
       "<table border=\"1\" class=\"dataframe\">\n",
       "  <thead>\n",
       "    <tr style=\"text-align: right;\">\n",
       "      <th></th>\n",
       "      <th>NIS</th>\n",
       "      <th>NAMA</th>\n",
       "      <th>L/P</th>\n",
       "      <th>Kehadiran (5%)</th>\n",
       "      <th>NH</th>\n",
       "      <th>UTS</th>\n",
       "      <th>UAS</th>\n",
       "      <th>Pengetahuan</th>\n",
       "      <th>Keterampilan</th>\n",
       "      <th>Total</th>\n",
       "      <th>Kelulusan</th>\n",
       "      <th>Sikap</th>\n",
       "    </tr>\n",
       "  </thead>\n",
       "  <tbody>\n",
       "    <tr>\n",
       "      <th>1</th>\n",
       "      <td>15501</td>\n",
       "      <td>ADHIKA NUGRAHA</td>\n",
       "      <td>L</td>\n",
       "      <td>38</td>\n",
       "      <td>91</td>\n",
       "      <td>84</td>\n",
       "      <td>76</td>\n",
       "      <td>84</td>\n",
       "      <td>56</td>\n",
       "      <td>82</td>\n",
       "      <td>1</td>\n",
       "      <td>A</td>\n",
       "    </tr>\n",
       "    <tr>\n",
       "      <th>2</th>\n",
       "      <td>15801</td>\n",
       "      <td>ADITYA HIMAWAN HOGANTARA R.L.</td>\n",
       "      <td>L</td>\n",
       "      <td>39</td>\n",
       "      <td>65</td>\n",
       "      <td>85</td>\n",
       "      <td>76</td>\n",
       "      <td>73</td>\n",
       "      <td>55</td>\n",
       "      <td>77</td>\n",
       "      <td>0</td>\n",
       "      <td>A</td>\n",
       "    </tr>\n",
       "    <tr>\n",
       "      <th>3</th>\n",
       "      <td>15507</td>\n",
       "      <td>AGUNG RISKY SETYAWAN</td>\n",
       "      <td>L</td>\n",
       "      <td>40</td>\n",
       "      <td>63</td>\n",
       "      <td>80</td>\n",
       "      <td>78</td>\n",
       "      <td>72</td>\n",
       "      <td>97</td>\n",
       "      <td>81</td>\n",
       "      <td>1</td>\n",
       "      <td>A</td>\n",
       "    </tr>\n",
       "    <tr>\n",
       "      <th>4</th>\n",
       "      <td>15514</td>\n",
       "      <td>ALIFA AYU MIRANTI HARTONO</td>\n",
       "      <td>P</td>\n",
       "      <td>40</td>\n",
       "      <td>74</td>\n",
       "      <td>80</td>\n",
       "      <td>78</td>\n",
       "      <td>77</td>\n",
       "      <td>81</td>\n",
       "      <td>81</td>\n",
       "      <td>1</td>\n",
       "      <td>A</td>\n",
       "    </tr>\n",
       "    <tr>\n",
       "      <th>5</th>\n",
       "      <td>15531</td>\n",
       "      <td>ANYS KHOIRIYAH</td>\n",
       "      <td>P</td>\n",
       "      <td>40</td>\n",
       "      <td>72</td>\n",
       "      <td>82</td>\n",
       "      <td>76</td>\n",
       "      <td>76</td>\n",
       "      <td>95</td>\n",
       "      <td>82</td>\n",
       "      <td>1</td>\n",
       "      <td>A</td>\n",
       "    </tr>\n",
       "  </tbody>\n",
       "</table>\n",
       "</div>"
      ],
      "text/plain": [
       "     NIS                           NAMA L/P  Kehadiran (5%)  NH  UTS  UAS  \\\n",
       "1  15501                 ADHIKA NUGRAHA   L              38  91   84   76   \n",
       "2  15801  ADITYA HIMAWAN HOGANTARA R.L.   L              39  65   85   76   \n",
       "3  15507           AGUNG RISKY SETYAWAN   L              40  63   80   78   \n",
       "4  15514      ALIFA AYU MIRANTI HARTONO   P              40  74   80   78   \n",
       "5  15531                 ANYS KHOIRIYAH   P              40  72   82   76   \n",
       "\n",
       "   Pengetahuan  Keterampilan  Total  Kelulusan Sikap  \n",
       "1           84            56     82          1     A  \n",
       "2           73            55     77          0     A  \n",
       "3           72            97     81          1     A  \n",
       "4           77            81     81          1     A  \n",
       "5           76            95     82          1     A  "
      ]
     },
     "execution_count": 2,
     "metadata": {},
     "output_type": "execute_result"
    }
   ],
   "source": [
    "data = pd.read_csv(\"datanilai2.csv\", sep=\";\")\n",
    "data.index+=1\n",
    "data.head()"
   ]
  },
  {
   "cell_type": "markdown",
   "metadata": {},
   "source": [
    "MENGAMBIL 50% DATA UNTUK TRAINING DAN 50% DATA UNTUK TESTING"
   ]
  },
  {
   "cell_type": "code",
   "execution_count": 3,
   "metadata": {},
   "outputs": [],
   "source": [
    "X = data.iloc[:90,3:-3].values   #1-90\n",
    "Y = data.iloc[:90,-2:-1].values.ravel()"
   ]
  },
  {
   "cell_type": "code",
   "execution_count": 4,
   "metadata": {},
   "outputs": [],
   "source": [
    "X_ = data.iloc[90:,3:-3].values    #91-180\n",
    "Y_ = data.iloc[90:,-2:-1].values.ravel()"
   ]
  },
  {
   "cell_type": "markdown",
   "metadata": {},
   "source": [
    "# ALGORITMA PADA BAGGING"
   ]
  },
  {
   "cell_type": "code",
   "execution_count": 5,
   "metadata": {},
   "outputs": [],
   "source": [
    "estimators = []\n",
    "#Decision Tree\n",
    "dt = DecisionTreeClassifier()\n",
    "dt.fit(X,Y)\n",
    "dt_pred =dt.predict(X_)\n",
    "estimators.append(('Decision Tree', dt))\n",
    "#Naive Bayes\n",
    "nb = GaussianNB()\n",
    "nb.fit(X,Y)\n",
    "nb_pred =nb.predict(X_)\n",
    "estimators.append(('Naive Bayes',nb))\n",
    "#KNN\n",
    "knn = KNeighborsClassifier()\n",
    "knn.fit(X, Y)\n",
    "knn_pred = knn.predict(X_)\n",
    "estimators.append(('KNN', knn))                    \n"
   ]
  },
  {
   "cell_type": "code",
   "execution_count": 6,
   "metadata": {},
   "outputs": [
    {
     "name": "stdout",
     "output_type": "stream",
     "text": [
      "Accuracy: 0.8777777777777778\n",
      "Precision: 0.847457627118644\n",
      "Recall: 0.9615384615384616\n"
     ]
    }
   ],
   "source": [
    "#HASIL PERFORMANCE DECISION TREE SEBELUM BAGGING\n",
    "clf_dt = DecisionTreeClassifier()\n",
    "clf_dt = clf_dt.fit(X, Y)\n",
    "y_predt = clf_dt.predict(X_)\n",
    "print(\"Accuracy:\", metrics.accuracy_score(Y_, y_predt.ravel()))\n",
    "print(\"Precision:\", metrics.precision_score(Y_, y_predt.ravel()))\n",
    "print(\"Recall:\", metrics.recall_score(Y_, y_predt.ravel()))"
   ]
  },
  {
   "cell_type": "code",
   "execution_count": 7,
   "metadata": {},
   "outputs": [
    {
     "name": "stdout",
     "output_type": "stream",
     "text": [
      "Accuracy: 0.9111111111111111\n",
      "Precision: 0.9583333333333334\n",
      "Recall: 0.8846153846153846\n"
     ]
    }
   ],
   "source": [
    "#HASIL PERFORMANCE NAIVE BAYES SEBELUM BAGGING\n",
    "clf_nb = GaussianNB()\n",
    "clf_nb = clf_nb.fit(X, Y)\n",
    "y_predn = clf_nb.predict(X_)\n",
    "print(\"Accuracy:\", metrics.accuracy_score(Y_, y_predn.ravel()))\n",
    "print(\"Precision:\", metrics.precision_score(Y_, y_predn.ravel()))\n",
    "print(\"Recall:\", metrics.recall_score(Y_, y_predn.ravel()))"
   ]
  },
  {
   "cell_type": "code",
   "execution_count": 8,
   "metadata": {
    "scrolled": false
   },
   "outputs": [
    {
     "name": "stdout",
     "output_type": "stream",
     "text": [
      "Accuracy: 0.9555555555555556\n",
      "Precision: 0.9615384615384616\n",
      "Recall: 0.9615384615384616\n"
     ]
    }
   ],
   "source": [
    "#HASIL PERFORMANCE KNN SEBELUM BAGGING\n",
    "clf_knn = KNeighborsClassifier()\n",
    "clf_knn = clf_knn.fit(X, Y)\n",
    "y_predk = clf_knn.predict(X_)\n",
    "print(\"Accuracy:\", metrics.accuracy_score(Y_, y_predk.ravel()))\n",
    "print(\"Precision:\", metrics.precision_score(Y_, y_predk.ravel()))\n",
    "print(\"Recall:\", metrics.recall_score(Y_, y_predk.ravel()))"
   ]
  },
  {
   "cell_type": "markdown",
   "metadata": {},
   "source": [
    "# ENSEMBLE DENGAN METODE BAGGING UNTUK DECISION TREE"
   ]
  },
  {
   "cell_type": "code",
   "execution_count": 9,
   "metadata": {},
   "outputs": [
    {
     "name": "stdout",
     "output_type": "stream",
     "text": [
      "PREDIKSI ALGORITMA DECISION TREE DENGAN BAGGING\n"
     ]
    },
    {
     "data": {
      "text/html": [
       "<div>\n",
       "<style scoped>\n",
       "    .dataframe tbody tr th:only-of-type {\n",
       "        vertical-align: middle;\n",
       "    }\n",
       "\n",
       "    .dataframe tbody tr th {\n",
       "        vertical-align: top;\n",
       "    }\n",
       "\n",
       "    .dataframe thead th {\n",
       "        text-align: right;\n",
       "    }\n",
       "</style>\n",
       "<table border=\"1\" class=\"dataframe\">\n",
       "  <thead>\n",
       "    <tr style=\"text-align: right;\">\n",
       "      <th></th>\n",
       "      <th>Y True</th>\n",
       "      <th>Decision Tree</th>\n",
       "      <th>Bagging DT</th>\n",
       "    </tr>\n",
       "  </thead>\n",
       "  <tbody>\n",
       "    <tr>\n",
       "      <th>0</th>\n",
       "      <td>0</td>\n",
       "      <td>0</td>\n",
       "      <td>0</td>\n",
       "    </tr>\n",
       "    <tr>\n",
       "      <th>1</th>\n",
       "      <td>0</td>\n",
       "      <td>0</td>\n",
       "      <td>0</td>\n",
       "    </tr>\n",
       "    <tr>\n",
       "      <th>2</th>\n",
       "      <td>1</td>\n",
       "      <td>1</td>\n",
       "      <td>1</td>\n",
       "    </tr>\n",
       "    <tr>\n",
       "      <th>3</th>\n",
       "      <td>1</td>\n",
       "      <td>1</td>\n",
       "      <td>1</td>\n",
       "    </tr>\n",
       "    <tr>\n",
       "      <th>4</th>\n",
       "      <td>0</td>\n",
       "      <td>0</td>\n",
       "      <td>0</td>\n",
       "    </tr>\n",
       "    <tr>\n",
       "      <th>5</th>\n",
       "      <td>1</td>\n",
       "      <td>1</td>\n",
       "      <td>1</td>\n",
       "    </tr>\n",
       "    <tr>\n",
       "      <th>6</th>\n",
       "      <td>0</td>\n",
       "      <td>0</td>\n",
       "      <td>0</td>\n",
       "    </tr>\n",
       "  </tbody>\n",
       "</table>\n",
       "</div>"
      ],
      "text/plain": [
       "   Y True  Decision Tree  Bagging DT\n",
       "0       0              0           0\n",
       "1       0              0           0\n",
       "2       1              1           1\n",
       "3       1              1           1\n",
       "4       0              0           0\n",
       "5       1              1           1\n",
       "6       0              0           0"
      ]
     },
     "execution_count": 9,
     "metadata": {},
     "output_type": "execute_result"
    }
   ],
   "source": [
    "ensemble1 = BaggingClassifier(base_estimator=dt, n_jobs=4, random_state=0)\n",
    "ensemble1.fit(X,Y)\n",
    "ensemble1_pred = ensemble1.predict(X_)\n",
    "#prediksi data frame\n",
    "hai = {\n",
    "    'Y True' : Y_,\n",
    "    'Decision Tree' : dt_pred,\n",
    "    'Bagging DT' : ensemble1_pred\n",
    "}\n",
    "print(\"PREDIKSI ALGORITMA DECISION TREE DENGAN BAGGING\")\n",
    "pd.DataFrame(hai).head(7)"
   ]
  },
  {
   "cell_type": "code",
   "execution_count": 10,
   "metadata": {},
   "outputs": [],
   "source": [
    "kfold = KFold(n_splits=5)\n",
    "scores = ['accuracy', 'precision', 'recall']\n",
    "hasil = cross_validate(ensemble1, X_, Y_, cv=kfold, scoring=scores, return_train_score=True)\n",
    "hasil_ = pd.DataFrame(hasil)\n"
   ]
  },
  {
   "cell_type": "code",
   "execution_count": 11,
   "metadata": {
    "scrolled": true
   },
   "outputs": [
    {
     "name": "stdout",
     "output_type": "stream",
     "text": [
      "HASIL ALGORITMA DECISION TREE DENGAN BAGGING\n",
      "Accuracy : 0.93\n",
      "Precision : 0.97 \n",
      "Recall : 0.89 \n"
     ]
    }
   ],
   "source": [
    "print(\"HASIL ALGORITMA DECISION TREE DENGAN BAGGING\")\n",
    "\n",
    "accuracy = hasil_.test_accuracy.mean() \n",
    "precision = hasil_.test_precision.mean() \n",
    "recall = hasil_.test_recall.mean() \n",
    "\n",
    "print(\"Accuracy : %0.2f\" % accuracy)\n",
    "print(\"Precision : %0.2f \" % precision)\n",
    "print(\"Recall : %0.2f \" % recall)"
   ]
  },
  {
   "cell_type": "markdown",
   "metadata": {},
   "source": [
    "# ENSEMBLE DENGAN METODE BAGGING UNTUK NAIVE BAYES"
   ]
  },
  {
   "cell_type": "code",
   "execution_count": 12,
   "metadata": {},
   "outputs": [
    {
     "name": "stdout",
     "output_type": "stream",
     "text": [
      "PREDIKSI ALGORITMA NAIVE BAYES DENGAN BAGGING\n"
     ]
    },
    {
     "data": {
      "text/html": [
       "<div>\n",
       "<style scoped>\n",
       "    .dataframe tbody tr th:only-of-type {\n",
       "        vertical-align: middle;\n",
       "    }\n",
       "\n",
       "    .dataframe tbody tr th {\n",
       "        vertical-align: top;\n",
       "    }\n",
       "\n",
       "    .dataframe thead th {\n",
       "        text-align: right;\n",
       "    }\n",
       "</style>\n",
       "<table border=\"1\" class=\"dataframe\">\n",
       "  <thead>\n",
       "    <tr style=\"text-align: right;\">\n",
       "      <th></th>\n",
       "      <th>Y True</th>\n",
       "      <th>Naive Bayes</th>\n",
       "      <th>Bagging NB</th>\n",
       "    </tr>\n",
       "  </thead>\n",
       "  <tbody>\n",
       "    <tr>\n",
       "      <th>0</th>\n",
       "      <td>0</td>\n",
       "      <td>0</td>\n",
       "      <td>0</td>\n",
       "    </tr>\n",
       "    <tr>\n",
       "      <th>1</th>\n",
       "      <td>0</td>\n",
       "      <td>0</td>\n",
       "      <td>0</td>\n",
       "    </tr>\n",
       "    <tr>\n",
       "      <th>2</th>\n",
       "      <td>1</td>\n",
       "      <td>1</td>\n",
       "      <td>1</td>\n",
       "    </tr>\n",
       "    <tr>\n",
       "      <th>3</th>\n",
       "      <td>1</td>\n",
       "      <td>1</td>\n",
       "      <td>1</td>\n",
       "    </tr>\n",
       "    <tr>\n",
       "      <th>4</th>\n",
       "      <td>0</td>\n",
       "      <td>0</td>\n",
       "      <td>0</td>\n",
       "    </tr>\n",
       "    <tr>\n",
       "      <th>5</th>\n",
       "      <td>1</td>\n",
       "      <td>1</td>\n",
       "      <td>1</td>\n",
       "    </tr>\n",
       "    <tr>\n",
       "      <th>6</th>\n",
       "      <td>0</td>\n",
       "      <td>0</td>\n",
       "      <td>0</td>\n",
       "    </tr>\n",
       "  </tbody>\n",
       "</table>\n",
       "</div>"
      ],
      "text/plain": [
       "   Y True  Naive Bayes  Bagging NB\n",
       "0       0            0           0\n",
       "1       0            0           0\n",
       "2       1            1           1\n",
       "3       1            1           1\n",
       "4       0            0           0\n",
       "5       1            1           1\n",
       "6       0            0           0"
      ]
     },
     "execution_count": 12,
     "metadata": {},
     "output_type": "execute_result"
    }
   ],
   "source": [
    "ensemble2 = BaggingClassifier(base_estimator=nb, n_jobs=4, random_state=0)\n",
    "ensemble2.fit(X,Y)\n",
    "ensemble2_pred = ensemble2.predict(X_)\n",
    "# MENAMPILKAN PREDIKSI KEDALAM DATA FRAME\n",
    "hai2 = {\n",
    "    'Y True' : Y_,\n",
    "    'Naive Bayes' : nb_pred,\n",
    "    'Bagging NB' : ensemble2_pred\n",
    "}\n",
    "print(\"PREDIKSI ALGORITMA NAIVE BAYES DENGAN BAGGING\")\n",
    "pd.DataFrame(hai2).head(7)"
   ]
  },
  {
   "cell_type": "code",
   "execution_count": 13,
   "metadata": {},
   "outputs": [],
   "source": [
    "kfold = KFold(n_splits=5)\n",
    "scores2 = ['accuracy', 'precision', 'recall']\n",
    "hasil2 = cross_validate(ensemble2, X_, Y_, cv=kfold, scoring=scores2, return_train_score=True)\n",
    "hasil2_ = pd.DataFrame(hasil2)\n"
   ]
  },
  {
   "cell_type": "code",
   "execution_count": 14,
   "metadata": {},
   "outputs": [
    {
     "name": "stdout",
     "output_type": "stream",
     "text": [
      "HASIL BAGGING DENGAN NAIVE BAYES\n",
      "Accuracy : 0.91\n",
      "Precision : 0.95 \n",
      "Recall : 0.87 \n"
     ]
    }
   ],
   "source": [
    "print(\"HASIL BAGGING DENGAN NAIVE BAYES\")\n",
    "\n",
    "accuracy = hasil2_.test_accuracy.mean() \n",
    "precision = hasil2_.test_precision.mean() \n",
    "recall = hasil2_.test_recall.mean() \n",
    "\n",
    "print(\"Accuracy : %0.2f\" % accuracy)\n",
    "print(\"Precision : %0.2f \" % precision)\n",
    "print(\"Recall : %0.2f \" % recall)"
   ]
  },
  {
   "cell_type": "markdown",
   "metadata": {},
   "source": [
    "# ENSEMBLE DENGAN METODE BAGGING UNTUK KNN"
   ]
  },
  {
   "cell_type": "code",
   "execution_count": 15,
   "metadata": {},
   "outputs": [
    {
     "name": "stdout",
     "output_type": "stream",
     "text": [
      "PREDIKSI ALGORITMA KNN DENGAN BAGGING\n"
     ]
    },
    {
     "data": {
      "text/html": [
       "<div>\n",
       "<style scoped>\n",
       "    .dataframe tbody tr th:only-of-type {\n",
       "        vertical-align: middle;\n",
       "    }\n",
       "\n",
       "    .dataframe tbody tr th {\n",
       "        vertical-align: top;\n",
       "    }\n",
       "\n",
       "    .dataframe thead th {\n",
       "        text-align: right;\n",
       "    }\n",
       "</style>\n",
       "<table border=\"1\" class=\"dataframe\">\n",
       "  <thead>\n",
       "    <tr style=\"text-align: right;\">\n",
       "      <th></th>\n",
       "      <th>Y True</th>\n",
       "      <th>KNN</th>\n",
       "      <th>BAGGING KNN</th>\n",
       "    </tr>\n",
       "  </thead>\n",
       "  <tbody>\n",
       "    <tr>\n",
       "      <th>0</th>\n",
       "      <td>0</td>\n",
       "      <td>0</td>\n",
       "      <td>0</td>\n",
       "    </tr>\n",
       "    <tr>\n",
       "      <th>1</th>\n",
       "      <td>0</td>\n",
       "      <td>0</td>\n",
       "      <td>0</td>\n",
       "    </tr>\n",
       "    <tr>\n",
       "      <th>2</th>\n",
       "      <td>1</td>\n",
       "      <td>1</td>\n",
       "      <td>1</td>\n",
       "    </tr>\n",
       "    <tr>\n",
       "      <th>3</th>\n",
       "      <td>1</td>\n",
       "      <td>1</td>\n",
       "      <td>1</td>\n",
       "    </tr>\n",
       "    <tr>\n",
       "      <th>4</th>\n",
       "      <td>0</td>\n",
       "      <td>0</td>\n",
       "      <td>0</td>\n",
       "    </tr>\n",
       "    <tr>\n",
       "      <th>5</th>\n",
       "      <td>1</td>\n",
       "      <td>1</td>\n",
       "      <td>1</td>\n",
       "    </tr>\n",
       "    <tr>\n",
       "      <th>6</th>\n",
       "      <td>0</td>\n",
       "      <td>0</td>\n",
       "      <td>0</td>\n",
       "    </tr>\n",
       "  </tbody>\n",
       "</table>\n",
       "</div>"
      ],
      "text/plain": [
       "   Y True  KNN  BAGGING KNN\n",
       "0       0    0            0\n",
       "1       0    0            0\n",
       "2       1    1            1\n",
       "3       1    1            1\n",
       "4       0    0            0\n",
       "5       1    1            1\n",
       "6       0    0            0"
      ]
     },
     "execution_count": 15,
     "metadata": {},
     "output_type": "execute_result"
    }
   ],
   "source": [
    "ensemble3 = BaggingClassifier(base_estimator=knn, n_jobs=3, random_state=0)\n",
    "ensemble3.fit(X,Y)\n",
    "ensemble3_pred = ensemble3.predict(X_)\n",
    "#MENAMPILKAN PREDIKSI KEDALAM DATA FRAME\n",
    "hai3 = {\n",
    "    'Y True' : Y_,\n",
    "    'KNN' : knn_pred,\n",
    "    'BAGGING KNN' : ensemble3_pred\n",
    "}\n",
    "print(\"PREDIKSI ALGORITMA KNN DENGAN BAGGING\")\n",
    "pd.DataFrame(hai3).head(7)"
   ]
  },
  {
   "cell_type": "code",
   "execution_count": 16,
   "metadata": {},
   "outputs": [],
   "source": [
    "kfold = KFold(n_splits=5)\n",
    "scores3 = ['accuracy', 'precision', 'recall']\n",
    "hasil3 = cross_validate(ensemble3, X_, Y_, cv=kfold, scoring=scores2, return_train_score=True)\n",
    "hasil3_ = pd.DataFrame(hasil3)\n"
   ]
  },
  {
   "cell_type": "code",
   "execution_count": 17,
   "metadata": {
    "scrolled": true
   },
   "outputs": [
    {
     "name": "stdout",
     "output_type": "stream",
     "text": [
      "HASIL BAGGING DENGAN KNN\n",
      "Accuracy : 0.94\n",
      "Precision : 0.97 \n",
      "Recall : 0.94 \n"
     ]
    }
   ],
   "source": [
    "print(\"HASIL BAGGING DENGAN KNN\")\n",
    "\n",
    "accuracy = hasil3_.test_accuracy.mean() \n",
    "precision = hasil3_.test_precision.mean() \n",
    "recall = hasil3_.test_recall.mean() \n",
    "\n",
    "print(\"Accuracy : %0.2f\" % accuracy)\n",
    "print(\"Precision : %0.2f \" % precision)\n",
    "print(\"Recall : %0.2f \" % recall)"
   ]
  },
  {
   "cell_type": "markdown",
   "metadata": {},
   "source": [
    "KESIMPULAN\n",
    "1. OPTIMASI AKURASI TERBAIK : DECISION TREE 0.92 menjadi 0.93\n",
    "2. OPTIMASI PRESISI TERBAIK : DECISION TREE 0.88 menjadi 0.97\n",
    "3. RECALL MENGALAMI PENURUNAN"
   ]
  },
  {
   "cell_type": "code",
   "execution_count": null,
   "metadata": {},
   "outputs": [],
   "source": []
  }
 ],
 "metadata": {
  "kernelspec": {
   "display_name": "Python 3",
   "language": "python",
   "name": "python3"
  },
  "language_info": {
   "codemirror_mode": {
    "name": "ipython",
    "version": 3
   },
   "file_extension": ".py",
   "mimetype": "text/x-python",
   "name": "python",
   "nbconvert_exporter": "python",
   "pygments_lexer": "ipython3",
   "version": "3.7.3"
  }
 },
 "nbformat": 4,
 "nbformat_minor": 2
}
